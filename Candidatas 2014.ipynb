{
 "cells": [
  {
   "cell_type": "code",
   "execution_count": 97,
   "metadata": {},
   "outputs": [],
   "source": [
    "import numpy as np\n",
    "import pandas as pd\n",
    "import matplotlib.pyplot as plt\n",
    "import csv"
   ]
  },
  {
   "cell_type": "code",
   "execution_count": 98,
   "metadata": {},
   "outputs": [],
   "source": [
    "df = pd.read_csv('/home/nayara/trabalhoPy/trabalhoPy_env/consulta_cand_2014_SP.csv',header=0,encoding='ISO-8859-1', delimiter=';')"
   ]
  },
  {
   "cell_type": "code",
   "execution_count": 99,
   "metadata": {},
   "outputs": [
    {
     "data": {
      "text/html": [
       "<div>\n",
       "<style scoped>\n",
       "    .dataframe tbody tr th:only-of-type {\n",
       "        vertical-align: middle;\n",
       "    }\n",
       "\n",
       "    .dataframe tbody tr th {\n",
       "        vertical-align: top;\n",
       "    }\n",
       "\n",
       "    .dataframe thead th {\n",
       "        text-align: right;\n",
       "    }\n",
       "</style>\n",
       "<table border=\"1\" class=\"dataframe\">\n",
       "  <thead>\n",
       "    <tr style=\"text-align: right;\">\n",
       "      <th></th>\n",
       "      <th>NM_CANDIDATO</th>\n",
       "      <th>SG_PARTIDO</th>\n",
       "      <th>DT_NASCIMENTO</th>\n",
       "      <th>NR_IDADE_DATA_POSSE</th>\n",
       "      <th>DS_GENERO</th>\n",
       "    </tr>\n",
       "  </thead>\n",
       "  <tbody>\n",
       "    <tr>\n",
       "      <th>0</th>\n",
       "      <td>FLAUDIO AZEVEDO LIMAS</td>\n",
       "      <td>PT</td>\n",
       "      <td>09/10/1961</td>\n",
       "      <td>53</td>\n",
       "      <td>MASCULINO</td>\n",
       "    </tr>\n",
       "    <tr>\n",
       "      <th>1</th>\n",
       "      <td>AUREA RODRIGUES MADEIRO</td>\n",
       "      <td>PMDB</td>\n",
       "      <td>18/02/1964</td>\n",
       "      <td>50</td>\n",
       "      <td>FEMININO</td>\n",
       "    </tr>\n",
       "    <tr>\n",
       "      <th>2</th>\n",
       "      <td>ALMIRANDO FERREIRA DO NASCIMENTO</td>\n",
       "      <td>PSB</td>\n",
       "      <td>24/07/1974</td>\n",
       "      <td>40</td>\n",
       "      <td>MASCULINO</td>\n",
       "    </tr>\n",
       "    <tr>\n",
       "      <th>3</th>\n",
       "      <td>HILDEBRANDO NERY DE ALMEIDA</td>\n",
       "      <td>PRB</td>\n",
       "      <td>23/03/1978</td>\n",
       "      <td>36</td>\n",
       "      <td>MASCULINO</td>\n",
       "    </tr>\n",
       "    <tr>\n",
       "      <th>4</th>\n",
       "      <td>JOSÉ MARIA RODRIGUES DE MATOS</td>\n",
       "      <td>PMN</td>\n",
       "      <td>10/12/1962</td>\n",
       "      <td>52</td>\n",
       "      <td>MASCULINO</td>\n",
       "    </tr>\n",
       "    <tr>\n",
       "      <th>...</th>\n",
       "      <td>...</td>\n",
       "      <td>...</td>\n",
       "      <td>...</td>\n",
       "      <td>...</td>\n",
       "      <td>...</td>\n",
       "    </tr>\n",
       "    <tr>\n",
       "      <th>3659</th>\n",
       "      <td>ALCEU GIRALDI</td>\n",
       "      <td>PSB</td>\n",
       "      <td>04/08/1955</td>\n",
       "      <td>59</td>\n",
       "      <td>MASCULINO</td>\n",
       "    </tr>\n",
       "    <tr>\n",
       "      <th>3660</th>\n",
       "      <td>NIVALDO SANTANA SILVA</td>\n",
       "      <td>PC do B</td>\n",
       "      <td>23/09/1953</td>\n",
       "      <td>61</td>\n",
       "      <td>MASCULINO</td>\n",
       "    </tr>\n",
       "    <tr>\n",
       "      <th>3661</th>\n",
       "      <td>MÔNICA DE OLIVEIRA COSTA</td>\n",
       "      <td>PHS</td>\n",
       "      <td>28/03/1986</td>\n",
       "      <td>28</td>\n",
       "      <td>FEMININO</td>\n",
       "    </tr>\n",
       "    <tr>\n",
       "      <th>3662</th>\n",
       "      <td>WALTER JOSÉ GONÇALVES JUNIOR</td>\n",
       "      <td>PSDC</td>\n",
       "      <td>12/08/1982</td>\n",
       "      <td>32</td>\n",
       "      <td>MASCULINO</td>\n",
       "    </tr>\n",
       "    <tr>\n",
       "      <th>3663</th>\n",
       "      <td>CARLOS ANTONIO LAPIQUE MARTINEZ</td>\n",
       "      <td>PTN</td>\n",
       "      <td>22/10/1955</td>\n",
       "      <td>59</td>\n",
       "      <td>MASCULINO</td>\n",
       "    </tr>\n",
       "  </tbody>\n",
       "</table>\n",
       "<p>3664 rows × 5 columns</p>\n",
       "</div>"
      ],
      "text/plain": [
       "                          NM_CANDIDATO SG_PARTIDO DT_NASCIMENTO  \\\n",
       "0                FLAUDIO AZEVEDO LIMAS         PT    09/10/1961   \n",
       "1              AUREA RODRIGUES MADEIRO       PMDB    18/02/1964   \n",
       "2     ALMIRANDO FERREIRA DO NASCIMENTO        PSB    24/07/1974   \n",
       "3          HILDEBRANDO NERY DE ALMEIDA        PRB    23/03/1978   \n",
       "4        JOSÉ MARIA RODRIGUES DE MATOS        PMN    10/12/1962   \n",
       "...                                ...        ...           ...   \n",
       "3659                     ALCEU GIRALDI        PSB    04/08/1955   \n",
       "3660             NIVALDO SANTANA SILVA    PC do B    23/09/1953   \n",
       "3661          MÔNICA DE OLIVEIRA COSTA        PHS    28/03/1986   \n",
       "3662      WALTER JOSÉ GONÇALVES JUNIOR       PSDC    12/08/1982   \n",
       "3663   CARLOS ANTONIO LAPIQUE MARTINEZ        PTN    22/10/1955   \n",
       "\n",
       "      NR_IDADE_DATA_POSSE  DS_GENERO  \n",
       "0                      53  MASCULINO  \n",
       "1                      50   FEMININO  \n",
       "2                      40  MASCULINO  \n",
       "3                      36  MASCULINO  \n",
       "4                      52  MASCULINO  \n",
       "...                   ...        ...  \n",
       "3659                   59  MASCULINO  \n",
       "3660                   61  MASCULINO  \n",
       "3661                   28   FEMININO  \n",
       "3662                   32  MASCULINO  \n",
       "3663                   59  MASCULINO  \n",
       "\n",
       "[3664 rows x 5 columns]"
      ]
     },
     "execution_count": 99,
     "metadata": {},
     "output_type": "execute_result"
    }
   ],
   "source": [
    "df.iloc[0:,[17,28,38,39,42]]"
   ]
  },
  {
   "cell_type": "code",
   "execution_count": 100,
   "metadata": {},
   "outputs": [
    {
     "data": {
      "text/plain": [
       "NM_CANDIDATO\n",
       "ÁLVARO ARAÚJO                      MASCULINO\n",
       "ISAIAS GUEDES GUIMARÃES            MASCULINO\n",
       "HERMES RODRIGUES NERY              MASCULINO\n",
       "HERIVELTO ALONSO SOUZA             MASCULINO\n",
       "HERCULES ROCHA DE GOES             MASCULINO\n",
       "                                     ...    \n",
       "FERNANDA RIBEIRO CALDAS             FEMININO\n",
       "FERNANDA XAVIER PASSOS CREPALDI     FEMININO\n",
       "PATRICIA CEOLIN                     FEMININO\n",
       "PATRICIA ANDREIA CARRETERO          FEMININO\n",
       "ELISANGELA CRISTINA FLAVIO          FEMININO\n",
       "Name: DS_GENERO, Length: 3651, dtype: object"
      ]
     },
     "execution_count": 100,
     "metadata": {},
     "output_type": "execute_result"
    }
   ],
   "source": [
    "df.groupby('NM_CANDIDATO')['DS_GENERO'].max().sort_values(ascending=False)"
   ]
  },
  {
   "cell_type": "code",
   "execution_count": 101,
   "metadata": {},
   "outputs": [
    {
     "data": {
      "text/plain": [
       "<AxesSubplot:ylabel='DS_GENERO'>"
      ]
     },
     "execution_count": 101,
     "metadata": {},
     "output_type": "execute_result"
    },
    {
     "data": {
      "image/png": "[encoded data removed]",
      "text/plain": [
       "<Figure size 360x360 with 1 Axes>"
      ]
     },
     "metadata": {
      "needs_background": "light"
     },
     "output_type": "display_data"
    }
   ],
   "source": [
    "plt.style.use('bmh')\n",
    "df.groupby('DS_GENERO').size().sort_values().tail(10).plot(kind='barh', figsize=(5,5))"
   ]
  },
  {
   "cell_type": "code",
   "execution_count": 102,
   "metadata": {},
   "outputs": [],
   "source": [
    "dados = df.loc[df['DS_GENERO'] == 'FEMININO']"
   ]
  },
  {
   "cell_type": "code",
   "execution_count": 103,
   "metadata": {},
   "outputs": [
    {
     "data": {
      "text/plain": [
       "1                  AUREA RODRIGUES MADEIRO\n",
       "11                      MARIA JOSÉ OCAMPOS\n",
       "15         ADRIANA SILVA RENAUT CAVALHEIRO\n",
       "18      FRANCISCA PEREIRA DA ROCHA  SEIXAS\n",
       "21                LUISA DA SILVA FERNANDES\n",
       "                       ...                \n",
       "3653               NEUSA DOS ANJOS RUOTOLO\n",
       "3654      ADRIANA SOUZA DOS SANTOS PEREIRA\n",
       "3656                  GILVANA ALVES FARIAS\n",
       "3657                  SILVANA INES MOREIRA\n",
       "3661              MÔNICA DE OLIVEIRA COSTA\n",
       "Name: NM_CANDIDATO, Length: 1124, dtype: object"
      ]
     },
     "execution_count": 103,
     "metadata": {},
     "output_type": "execute_result"
    }
   ],
   "source": [
    "dados['NM_CANDIDATO']"
   ]
  },
  {
   "cell_type": "code",
   "execution_count": 105,
   "metadata": {
    "scrolled": true
   },
   "outputs": [
    {
     "data": {
      "text/html": [
       "<div>\n",
       "<style scoped>\n",
       "    .dataframe tbody tr th:only-of-type {\n",
       "        vertical-align: middle;\n",
       "    }\n",
       "\n",
       "    .dataframe tbody tr th {\n",
       "        vertical-align: top;\n",
       "    }\n",
       "\n",
       "    .dataframe thead th {\n",
       "        text-align: right;\n",
       "    }\n",
       "</style>\n",
       "<table border=\"1\" class=\"dataframe\">\n",
       "  <thead>\n",
       "    <tr style=\"text-align: right;\">\n",
       "      <th></th>\n",
       "      <th>NM_CANDIDATO</th>\n",
       "      <th>SG_PARTIDO</th>\n",
       "      <th>DT_NASCIMENTO</th>\n",
       "      <th>NR_IDADE_DATA_POSSE</th>\n",
       "      <th>DS_GENERO</th>\n",
       "    </tr>\n",
       "  </thead>\n",
       "  <tbody>\n",
       "    <tr>\n",
       "      <th>1</th>\n",
       "      <td>AUREA RODRIGUES MADEIRO</td>\n",
       "      <td>PMDB</td>\n",
       "      <td>18/02/1964</td>\n",
       "      <td>50</td>\n",
       "      <td>FEMININO</td>\n",
       "    </tr>\n",
       "    <tr>\n",
       "      <th>11</th>\n",
       "      <td>MARIA JOSÉ OCAMPOS</td>\n",
       "      <td>PRB</td>\n",
       "      <td>29/06/1955</td>\n",
       "      <td>59</td>\n",
       "      <td>FEMININO</td>\n",
       "    </tr>\n",
       "    <tr>\n",
       "      <th>15</th>\n",
       "      <td>ADRIANA SILVA RENAUT CAVALHEIRO</td>\n",
       "      <td>PTC</td>\n",
       "      <td>04/05/1965</td>\n",
       "      <td>49</td>\n",
       "      <td>FEMININO</td>\n",
       "    </tr>\n",
       "    <tr>\n",
       "      <th>18</th>\n",
       "      <td>FRANCISCA PEREIRA DA ROCHA  SEIXAS</td>\n",
       "      <td>PC do B</td>\n",
       "      <td>17/04/1961</td>\n",
       "      <td>53</td>\n",
       "      <td>FEMININO</td>\n",
       "    </tr>\n",
       "    <tr>\n",
       "      <th>21</th>\n",
       "      <td>LUISA DA SILVA FERNANDES</td>\n",
       "      <td>PV</td>\n",
       "      <td>04/02/1985</td>\n",
       "      <td>30</td>\n",
       "      <td>FEMININO</td>\n",
       "    </tr>\n",
       "    <tr>\n",
       "      <th>...</th>\n",
       "      <td>...</td>\n",
       "      <td>...</td>\n",
       "      <td>...</td>\n",
       "      <td>...</td>\n",
       "      <td>...</td>\n",
       "    </tr>\n",
       "    <tr>\n",
       "      <th>3653</th>\n",
       "      <td>NEUSA DOS ANJOS RUOTOLO</td>\n",
       "      <td>PMN</td>\n",
       "      <td>20/08/1951</td>\n",
       "      <td>63</td>\n",
       "      <td>FEMININO</td>\n",
       "    </tr>\n",
       "    <tr>\n",
       "      <th>3654</th>\n",
       "      <td>ADRIANA SOUZA DOS SANTOS PEREIRA</td>\n",
       "      <td>PRP</td>\n",
       "      <td>17/11/1979</td>\n",
       "      <td>35</td>\n",
       "      <td>FEMININO</td>\n",
       "    </tr>\n",
       "    <tr>\n",
       "      <th>3656</th>\n",
       "      <td>GILVANA ALVES FARIAS</td>\n",
       "      <td>PRP</td>\n",
       "      <td>09/05/1972</td>\n",
       "      <td>42</td>\n",
       "      <td>FEMININO</td>\n",
       "    </tr>\n",
       "    <tr>\n",
       "      <th>3657</th>\n",
       "      <td>SILVANA INES MOREIRA</td>\n",
       "      <td>PRP</td>\n",
       "      <td>08/12/1964</td>\n",
       "      <td>50</td>\n",
       "      <td>FEMININO</td>\n",
       "    </tr>\n",
       "    <tr>\n",
       "      <th>3661</th>\n",
       "      <td>MÔNICA DE OLIVEIRA COSTA</td>\n",
       "      <td>PHS</td>\n",
       "      <td>28/03/1986</td>\n",
       "      <td>28</td>\n",
       "      <td>FEMININO</td>\n",
       "    </tr>\n",
       "  </tbody>\n",
       "</table>\n",
       "<p>1124 rows × 5 columns</p>\n",
       "</div>"
      ],
      "text/plain": [
       "                            NM_CANDIDATO SG_PARTIDO DT_NASCIMENTO  \\\n",
       "1                AUREA RODRIGUES MADEIRO       PMDB    18/02/1964   \n",
       "11                    MARIA JOSÉ OCAMPOS        PRB    29/06/1955   \n",
       "15       ADRIANA SILVA RENAUT CAVALHEIRO        PTC    04/05/1965   \n",
       "18    FRANCISCA PEREIRA DA ROCHA  SEIXAS    PC do B    17/04/1961   \n",
       "21              LUISA DA SILVA FERNANDES         PV    04/02/1985   \n",
       "...                                  ...        ...           ...   \n",
       "3653             NEUSA DOS ANJOS RUOTOLO        PMN    20/08/1951   \n",
       "3654    ADRIANA SOUZA DOS SANTOS PEREIRA        PRP    17/11/1979   \n",
       "3656                GILVANA ALVES FARIAS        PRP    09/05/1972   \n",
       "3657                SILVANA INES MOREIRA        PRP    08/12/1964   \n",
       "3661            MÔNICA DE OLIVEIRA COSTA        PHS    28/03/1986   \n",
       "\n",
       "      NR_IDADE_DATA_POSSE DS_GENERO  \n",
       "1                      50  FEMININO  \n",
       "11                     59  FEMININO  \n",
       "15                     49  FEMININO  \n",
       "18                     53  FEMININO  \n",
       "21                     30  FEMININO  \n",
       "...                   ...       ...  \n",
       "3653                   63  FEMININO  \n",
       "3654                   35  FEMININO  \n",
       "3656                   42  FEMININO  \n",
       "3657                   50  FEMININO  \n",
       "3661                   28  FEMININO  \n",
       "\n",
       "[1124 rows x 5 columns]"
      ]
     },
     "execution_count": 105,
     "metadata": {},
     "output_type": "execute_result"
    }
   ],
   "source": [
    "dados.iloc[0:,[17,28,38,39,42]]"
   ]
  },
  {
   "cell_type": "code",
   "execution_count": 107,
   "metadata": {},
   "outputs": [
    {
     "data": {
      "image/png": "[encoded data removed]",
      "text/plain": [
       "<Figure size 432x288 with 1 Axes>"
      ]
     },
     "metadata": {
      "needs_background": "light"
     },
     "output_type": "display_data"
    }
   ],
   "source": [
    "df.groupby('NR_IDADE_DATA_POSSE').size().plot(kind='line').set_title('Análise de Candidatas por idade', fontsize = 21)\n",
    "plt.xlabel('')\n",
    "plt.show()"
   ]
  },
  {
   "cell_type": "code",
   "execution_count": null,
   "metadata": {},
   "outputs": [],
   "source": []
  }
 ],
 "metadata": {
  "kernelspec": {
   "display_name": "Python 3",
   "language": "python",
   "name": "python3"
  },
  "language_info": {
   "codemirror_mode": {
    "name": "ipython",
    "version": 3
   },
   "file_extension": ".py",
   "mimetype": "text/x-python",
   "name": "python",
   "nbconvert_exporter": "python",
   "pygments_lexer": "ipython3",
   "version": "3.6.9"
  }
 },
 "nbformat": 4,
 "nbformat_minor": 4
}
