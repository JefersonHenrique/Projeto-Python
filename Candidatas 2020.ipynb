{
 "cells": [
  {
   "cell_type": "code",
   "execution_count": 1,
   "metadata": {},
   "outputs": [],
   "source": [
    "import numpy as np\n",
    "import pandas as pd\n",
    "import matplotlib.pyplot as plt\n",
    "import csv"
   ]
  },
  {
   "cell_type": "code",
   "execution_count": 2,
   "metadata": {},
   "outputs": [],
   "source": [
    "df = pd.read_csv('/home/nayara/trabalhoPy/trabalhoPy_env/consulta_cand_2020_SP.csv',header=0,encoding='ISO-8859-1', delimiter=';')"
   ]
  },
  {
   "cell_type": "code",
   "execution_count": 4,
   "metadata": {
    "scrolled": true
   },
   "outputs": [
    {
     "data": {
      "text/html": [
       "<div>\n",
       "<style scoped>\n",
       "    .dataframe tbody tr th:only-of-type {\n",
       "        vertical-align: middle;\n",
       "    }\n",
       "\n",
       "    .dataframe tbody tr th {\n",
       "        vertical-align: top;\n",
       "    }\n",
       "\n",
       "    .dataframe thead th {\n",
       "        text-align: right;\n",
       "    }\n",
       "</style>\n",
       "<table border=\"1\" class=\"dataframe\">\n",
       "  <thead>\n",
       "    <tr style=\"text-align: right;\">\n",
       "      <th></th>\n",
       "      <th>NM_CANDIDATO</th>\n",
       "      <th>SG_PARTIDO</th>\n",
       "      <th>DT_NASCIMENTO</th>\n",
       "      <th>NR_IDADE_DATA_POSSE</th>\n",
       "      <th>DS_GENERO</th>\n",
       "    </tr>\n",
       "  </thead>\n",
       "  <tbody>\n",
       "    <tr>\n",
       "      <th>0</th>\n",
       "      <td>KENNEDY PAULO SILVA DE OLIVEIRA</td>\n",
       "      <td>PODE</td>\n",
       "      <td>20/11/1995</td>\n",
       "      <td>25</td>\n",
       "      <td>MASCULINO</td>\n",
       "    </tr>\n",
       "    <tr>\n",
       "      <th>1</th>\n",
       "      <td>AGENOR AMBROSIO CARDOSO FILHO</td>\n",
       "      <td>PROS</td>\n",
       "      <td>15/08/1971</td>\n",
       "      <td>49</td>\n",
       "      <td>MASCULINO</td>\n",
       "    </tr>\n",
       "    <tr>\n",
       "      <th>2</th>\n",
       "      <td>KARIN ALVES GUEDES DA SILVA</td>\n",
       "      <td>PSD</td>\n",
       "      <td>05/02/1990</td>\n",
       "      <td>30</td>\n",
       "      <td>FEMININO</td>\n",
       "    </tr>\n",
       "    <tr>\n",
       "      <th>3</th>\n",
       "      <td>ANTONIO BUCCA JUNIOR</td>\n",
       "      <td>PTB</td>\n",
       "      <td>10/02/1987</td>\n",
       "      <td>33</td>\n",
       "      <td>MASCULINO</td>\n",
       "    </tr>\n",
       "    <tr>\n",
       "      <th>4</th>\n",
       "      <td>REGINA CELIA BENTO CATHARINO</td>\n",
       "      <td>PSL</td>\n",
       "      <td>06/09/1971</td>\n",
       "      <td>49</td>\n",
       "      <td>FEMININO</td>\n",
       "    </tr>\n",
       "    <tr>\n",
       "      <th>...</th>\n",
       "      <td>...</td>\n",
       "      <td>...</td>\n",
       "      <td>...</td>\n",
       "      <td>...</td>\n",
       "      <td>...</td>\n",
       "    </tr>\n",
       "    <tr>\n",
       "      <th>93698</th>\n",
       "      <td>BENTO MIRANDA MARTINS</td>\n",
       "      <td>PTB</td>\n",
       "      <td>07/04/1964</td>\n",
       "      <td>56</td>\n",
       "      <td>MASCULINO</td>\n",
       "    </tr>\n",
       "    <tr>\n",
       "      <th>93699</th>\n",
       "      <td>CLAUDINEI AVELINO</td>\n",
       "      <td>REPUBLICANOS</td>\n",
       "      <td>26/05/1965</td>\n",
       "      <td>55</td>\n",
       "      <td>MASCULINO</td>\n",
       "    </tr>\n",
       "    <tr>\n",
       "      <th>93700</th>\n",
       "      <td>MARIA DE LOURDES PAVANELLO PEREIRA</td>\n",
       "      <td>PV</td>\n",
       "      <td>15/01/1961</td>\n",
       "      <td>59</td>\n",
       "      <td>FEMININO</td>\n",
       "    </tr>\n",
       "    <tr>\n",
       "      <th>93701</th>\n",
       "      <td>BENEDITA CONCEIÇÃO DA SILVA</td>\n",
       "      <td>AVANTE</td>\n",
       "      <td>12/03/1973</td>\n",
       "      <td>47</td>\n",
       "      <td>FEMININO</td>\n",
       "    </tr>\n",
       "    <tr>\n",
       "      <th>93702</th>\n",
       "      <td>MARCOS AURÉLIO DE OLIVEIRA LEITE</td>\n",
       "      <td>DC</td>\n",
       "      <td>03/02/1978</td>\n",
       "      <td>42</td>\n",
       "      <td>MASCULINO</td>\n",
       "    </tr>\n",
       "  </tbody>\n",
       "</table>\n",
       "<p>93703 rows × 5 columns</p>\n",
       "</div>"
      ],
      "text/plain": [
       "                             NM_CANDIDATO    SG_PARTIDO DT_NASCIMENTO  \\\n",
       "0         KENNEDY PAULO SILVA DE OLIVEIRA          PODE    20/11/1995   \n",
       "1           AGENOR AMBROSIO CARDOSO FILHO          PROS    15/08/1971   \n",
       "2             KARIN ALVES GUEDES DA SILVA           PSD    05/02/1990   \n",
       "3                    ANTONIO BUCCA JUNIOR           PTB    10/02/1987   \n",
       "4            REGINA CELIA BENTO CATHARINO           PSL    06/09/1971   \n",
       "...                                   ...           ...           ...   \n",
       "93698               BENTO MIRANDA MARTINS           PTB    07/04/1964   \n",
       "93699                   CLAUDINEI AVELINO  REPUBLICANOS    26/05/1965   \n",
       "93700  MARIA DE LOURDES PAVANELLO PEREIRA            PV    15/01/1961   \n",
       "93701         BENEDITA CONCEIÇÃO DA SILVA        AVANTE    12/03/1973   \n",
       "93702    MARCOS AURÉLIO DE OLIVEIRA LEITE            DC    03/02/1978   \n",
       "\n",
       "       NR_IDADE_DATA_POSSE  DS_GENERO  \n",
       "0                       25  MASCULINO  \n",
       "1                       49  MASCULINO  \n",
       "2                       30   FEMININO  \n",
       "3                       33  MASCULINO  \n",
       "4                       49   FEMININO  \n",
       "...                    ...        ...  \n",
       "93698                   56  MASCULINO  \n",
       "93699                   55  MASCULINO  \n",
       "93700                   59   FEMININO  \n",
       "93701                   47   FEMININO  \n",
       "93702                   42  MASCULINO  \n",
       "\n",
       "[93703 rows x 5 columns]"
      ]
     },
     "execution_count": 4,
     "metadata": {},
     "output_type": "execute_result"
    }
   ],
   "source": [
    "df.iloc[0:,[17,28,38,39,42]]"
   ]
  },
  {
   "cell_type": "code",
   "execution_count": 5,
   "metadata": {},
   "outputs": [
    {
     "data": {
      "text/plain": [
       "NM_CANDIDATO\n",
       "ÍTALO VALÊNCIO                          MASCULINO\n",
       "HERNANI NAVARRETE GOMES                 MASCULINO\n",
       "HIDALGO ANDRE DE FREITAS                MASCULINO\n",
       "HIDALGO DE OLIVEIRA                     MASCULINO\n",
       "HIDALGO PAULO DE SOUZA                  MASCULINO\n",
       "                                          ...    \n",
       "JOSEFINA DE AGUIAR                       FEMININO\n",
       "JOSEFINA BENEDITA APARECIDA PINHEIRO     FEMININO\n",
       "JOSEFINA BANO DE SOUZA                   FEMININO\n",
       "JOSEFINA APARECIDA DOS SANTOS            FEMININO\n",
       "DAIANA CRISTINA DE SOUZA PEREIRA         FEMININO\n",
       "Name: DS_GENERO, Length: 90908, dtype: object"
      ]
     },
     "execution_count": 5,
     "metadata": {},
     "output_type": "execute_result"
    }
   ],
   "source": [
    "df.groupby('NM_CANDIDATO')['DS_GENERO'].max().sort_values(ascending=False)"
   ]
  },
  {
   "cell_type": "code",
   "execution_count": 6,
   "metadata": {},
   "outputs": [
    {
     "data": {
      "text/plain": [
       "<AxesSubplot:ylabel='DS_GENERO'>"
      ]
     },
     "execution_count": 6,
     "metadata": {},
     "output_type": "execute_result"
    },
    {
     "data": {
      "image/png": "[encoded data removed]",
      "text/plain": [
       "<Figure size 360x360 with 1 Axes>"
      ]
     },
     "metadata": {
      "needs_background": "light"
     },
     "output_type": "display_data"
    }
   ],
   "source": [
    "plt.style.use('bmh')\n",
    "df.groupby('DS_GENERO').size().sort_values().tail(10).plot(kind='barh', figsize=(5,5))"
   ]
  },
  {
   "cell_type": "code",
   "execution_count": 7,
   "metadata": {},
   "outputs": [],
   "source": [
    "dados = df.loc[df['DS_GENERO'] == 'FEMININO']"
   ]
  },
  {
   "cell_type": "code",
   "execution_count": 8,
   "metadata": {},
   "outputs": [
    {
     "data": {
      "text/plain": [
       "2               KARIN ALVES GUEDES DA SILVA\n",
       "4              REGINA CELIA BENTO CATHARINO\n",
       "10                PATRICIA ALVES DOS SANTOS\n",
       "11                TANIA REGINA GUARÉ MADRID\n",
       "12                JULIETTE CRISTINA RUDOKAS\n",
       "                        ...                \n",
       "93689         ANGELA MARIA DE SOUZA ALMEIDA\n",
       "93693                JULIANA OLIVA DE SOUZA\n",
       "93695         SABRINA BARUCH NEGRÃO MARQUES\n",
       "93700    MARIA DE LOURDES PAVANELLO PEREIRA\n",
       "93701           BENEDITA CONCEIÇÃO DA SILVA\n",
       "Name: NM_CANDIDATO, Length: 31441, dtype: object"
      ]
     },
     "execution_count": 8,
     "metadata": {},
     "output_type": "execute_result"
    }
   ],
   "source": [
    "dados['NM_CANDIDATO']"
   ]
  },
  {
   "cell_type": "code",
   "execution_count": 9,
   "metadata": {},
   "outputs": [
    {
     "data": {
      "text/html": [
       "<div>\n",
       "<style scoped>\n",
       "    .dataframe tbody tr th:only-of-type {\n",
       "        vertical-align: middle;\n",
       "    }\n",
       "\n",
       "    .dataframe tbody tr th {\n",
       "        vertical-align: top;\n",
       "    }\n",
       "\n",
       "    .dataframe thead th {\n",
       "        text-align: right;\n",
       "    }\n",
       "</style>\n",
       "<table border=\"1\" class=\"dataframe\">\n",
       "  <thead>\n",
       "    <tr style=\"text-align: right;\">\n",
       "      <th></th>\n",
       "      <th>NM_CANDIDATO</th>\n",
       "      <th>SG_PARTIDO</th>\n",
       "      <th>DT_NASCIMENTO</th>\n",
       "      <th>NR_IDADE_DATA_POSSE</th>\n",
       "      <th>DS_GENERO</th>\n",
       "    </tr>\n",
       "  </thead>\n",
       "  <tbody>\n",
       "    <tr>\n",
       "      <th>2</th>\n",
       "      <td>KARIN ALVES GUEDES DA SILVA</td>\n",
       "      <td>PSD</td>\n",
       "      <td>05/02/1990</td>\n",
       "      <td>30</td>\n",
       "      <td>FEMININO</td>\n",
       "    </tr>\n",
       "    <tr>\n",
       "      <th>4</th>\n",
       "      <td>REGINA CELIA BENTO CATHARINO</td>\n",
       "      <td>PSL</td>\n",
       "      <td>06/09/1971</td>\n",
       "      <td>49</td>\n",
       "      <td>FEMININO</td>\n",
       "    </tr>\n",
       "    <tr>\n",
       "      <th>10</th>\n",
       "      <td>PATRICIA ALVES DOS SANTOS</td>\n",
       "      <td>PSL</td>\n",
       "      <td>18/02/1977</td>\n",
       "      <td>43</td>\n",
       "      <td>FEMININO</td>\n",
       "    </tr>\n",
       "    <tr>\n",
       "      <th>11</th>\n",
       "      <td>TANIA REGINA GUARÉ MADRID</td>\n",
       "      <td>PDT</td>\n",
       "      <td>27/07/1970</td>\n",
       "      <td>50</td>\n",
       "      <td>FEMININO</td>\n",
       "    </tr>\n",
       "    <tr>\n",
       "      <th>12</th>\n",
       "      <td>JULIETTE CRISTINA RUDOKAS</td>\n",
       "      <td>CIDADANIA</td>\n",
       "      <td>14/06/1989</td>\n",
       "      <td>31</td>\n",
       "      <td>FEMININO</td>\n",
       "    </tr>\n",
       "    <tr>\n",
       "      <th>...</th>\n",
       "      <td>...</td>\n",
       "      <td>...</td>\n",
       "      <td>...</td>\n",
       "      <td>...</td>\n",
       "      <td>...</td>\n",
       "    </tr>\n",
       "    <tr>\n",
       "      <th>93689</th>\n",
       "      <td>ANGELA MARIA DE SOUZA ALMEIDA</td>\n",
       "      <td>PSDB</td>\n",
       "      <td>14/03/1961</td>\n",
       "      <td>59</td>\n",
       "      <td>FEMININO</td>\n",
       "    </tr>\n",
       "    <tr>\n",
       "      <th>93693</th>\n",
       "      <td>JULIANA OLIVA DE SOUZA</td>\n",
       "      <td>PP</td>\n",
       "      <td>13/04/1989</td>\n",
       "      <td>31</td>\n",
       "      <td>FEMININO</td>\n",
       "    </tr>\n",
       "    <tr>\n",
       "      <th>93695</th>\n",
       "      <td>SABRINA BARUCH NEGRÃO MARQUES</td>\n",
       "      <td>PP</td>\n",
       "      <td>12/05/1978</td>\n",
       "      <td>42</td>\n",
       "      <td>FEMININO</td>\n",
       "    </tr>\n",
       "    <tr>\n",
       "      <th>93700</th>\n",
       "      <td>MARIA DE LOURDES PAVANELLO PEREIRA</td>\n",
       "      <td>PV</td>\n",
       "      <td>15/01/1961</td>\n",
       "      <td>59</td>\n",
       "      <td>FEMININO</td>\n",
       "    </tr>\n",
       "    <tr>\n",
       "      <th>93701</th>\n",
       "      <td>BENEDITA CONCEIÇÃO DA SILVA</td>\n",
       "      <td>AVANTE</td>\n",
       "      <td>12/03/1973</td>\n",
       "      <td>47</td>\n",
       "      <td>FEMININO</td>\n",
       "    </tr>\n",
       "  </tbody>\n",
       "</table>\n",
       "<p>31441 rows × 5 columns</p>\n",
       "</div>"
      ],
      "text/plain": [
       "                             NM_CANDIDATO SG_PARTIDO DT_NASCIMENTO  \\\n",
       "2             KARIN ALVES GUEDES DA SILVA        PSD    05/02/1990   \n",
       "4            REGINA CELIA BENTO CATHARINO        PSL    06/09/1971   \n",
       "10              PATRICIA ALVES DOS SANTOS        PSL    18/02/1977   \n",
       "11              TANIA REGINA GUARÉ MADRID        PDT    27/07/1970   \n",
       "12              JULIETTE CRISTINA RUDOKAS  CIDADANIA    14/06/1989   \n",
       "...                                   ...        ...           ...   \n",
       "93689       ANGELA MARIA DE SOUZA ALMEIDA       PSDB    14/03/1961   \n",
       "93693              JULIANA OLIVA DE SOUZA         PP    13/04/1989   \n",
       "93695       SABRINA BARUCH NEGRÃO MARQUES         PP    12/05/1978   \n",
       "93700  MARIA DE LOURDES PAVANELLO PEREIRA         PV    15/01/1961   \n",
       "93701         BENEDITA CONCEIÇÃO DA SILVA     AVANTE    12/03/1973   \n",
       "\n",
       "       NR_IDADE_DATA_POSSE DS_GENERO  \n",
       "2                       30  FEMININO  \n",
       "4                       49  FEMININO  \n",
       "10                      43  FEMININO  \n",
       "11                      50  FEMININO  \n",
       "12                      31  FEMININO  \n",
       "...                    ...       ...  \n",
       "93689                   59  FEMININO  \n",
       "93693                   31  FEMININO  \n",
       "93695                   42  FEMININO  \n",
       "93700                   59  FEMININO  \n",
       "93701                   47  FEMININO  \n",
       "\n",
       "[31441 rows x 5 columns]"
      ]
     },
     "execution_count": 9,
     "metadata": {},
     "output_type": "execute_result"
    }
   ],
   "source": [
    "dados.iloc[0:,[17,28,38,39,42]]"
   ]
  },
  {
   "cell_type": "code",
   "execution_count": 16,
   "metadata": {},
   "outputs": [
    {
     "data": {
      "image/png": "[encoded data removed]",
      "text/plain": [
       "<Figure size 432x288 with 1 Axes>"
      ]
     },
     "metadata": {
      "needs_background": "light"
     },
     "output_type": "display_data"
    }
   ],
   "source": [
    "df.groupby('NR_IDADE_DATA_POSSE').size().plot(kind='line').set_title('Análise de Candidatas por idade', fontsize = 21)\n",
    "plt.xlabel('')\n",
    "plt.show()"
   ]
  },
  {
   "cell_type": "code",
   "execution_count": null,
   "metadata": {},
   "outputs": [],
   "source": []
  }
 ],
 "metadata": {
  "kernelspec": {
   "display_name": "Python 3",
   "language": "python",
   "name": "python3"
  },
  "language_info": {
   "codemirror_mode": {
    "name": "ipython",
    "version": 3
   },
   "file_extension": ".py",
   "mimetype": "text/x-python",
   "name": "python",
   "nbconvert_exporter": "python",
   "pygments_lexer": "ipython3",
   "version": "3.6.9"
  }
 },
 "nbformat": 4,
 "nbformat_minor": 4
}
