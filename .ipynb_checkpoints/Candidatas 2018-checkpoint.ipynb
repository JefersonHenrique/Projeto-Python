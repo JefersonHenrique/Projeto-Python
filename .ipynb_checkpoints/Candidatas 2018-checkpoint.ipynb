{
 "cells": [
  {
   "cell_type": "code",
   "execution_count": 1,
   "metadata": {},
   "outputs": [],
   "source": [
    "import numpy as np\n",
    "import pandas as pd\n",
    "import matplotlib.pyplot as plt\n",
    "import csv"
   ]
  },
  {
   "cell_type": "code",
   "execution_count": 2,
   "metadata": {},
   "outputs": [],
   "source": [
    "df = pd.read_csv('/home/nayara/trabalhoPy/trabalhoPy_env/consulta_cand_2018_SP.csv',header=0,encoding='ISO-8859-1', delimiter=';')"
   ]
  },
  {
   "cell_type": "code",
   "execution_count": 3,
   "metadata": {},
   "outputs": [
    {
     "data": {
      "text/html": [
       "<div>\n",
       "<style scoped>\n",
       "    .dataframe tbody tr th:only-of-type {\n",
       "        vertical-align: middle;\n",
       "    }\n",
       "\n",
       "    .dataframe tbody tr th {\n",
       "        vertical-align: top;\n",
       "    }\n",
       "\n",
       "    .dataframe thead th {\n",
       "        text-align: right;\n",
       "    }\n",
       "</style>\n",
       "<table border=\"1\" class=\"dataframe\">\n",
       "  <thead>\n",
       "    <tr style=\"text-align: right;\">\n",
       "      <th></th>\n",
       "      <th>NM_CANDIDATO</th>\n",
       "      <th>SG_PARTIDO</th>\n",
       "      <th>DT_NASCIMENTO</th>\n",
       "      <th>NR_IDADE_DATA_POSSE</th>\n",
       "      <th>DS_GENERO</th>\n",
       "    </tr>\n",
       "  </thead>\n",
       "  <tbody>\n",
       "    <tr>\n",
       "      <th>0</th>\n",
       "      <td>HENRIQUE CARVALHO DE CAMPOS</td>\n",
       "      <td>PODE</td>\n",
       "      <td>04/11/1957</td>\n",
       "      <td>63</td>\n",
       "      <td>MASCULINO</td>\n",
       "    </tr>\n",
       "    <tr>\n",
       "      <th>1</th>\n",
       "      <td>MICHEL RAMIRO CARNEIRO</td>\n",
       "      <td>PC do B</td>\n",
       "      <td>25/04/1987</td>\n",
       "      <td>33</td>\n",
       "      <td>MASCULINO</td>\n",
       "    </tr>\n",
       "    <tr>\n",
       "      <th>2</th>\n",
       "      <td>RAIMUNDO BERNARDINO DO NASCIMENTO</td>\n",
       "      <td>PT</td>\n",
       "      <td>31/05/1945</td>\n",
       "      <td>75</td>\n",
       "      <td>MASCULINO</td>\n",
       "    </tr>\n",
       "    <tr>\n",
       "      <th>3</th>\n",
       "      <td>MAURICIO DOMINGUES DA SILVA</td>\n",
       "      <td>PRB</td>\n",
       "      <td>09/08/1962</td>\n",
       "      <td>58</td>\n",
       "      <td>MASCULINO</td>\n",
       "    </tr>\n",
       "    <tr>\n",
       "      <th>4</th>\n",
       "      <td>ORLANDO MAURÍCIO JÚNIOR</td>\n",
       "      <td>PT</td>\n",
       "      <td>31/07/1975</td>\n",
       "      <td>45</td>\n",
       "      <td>MASCULINO</td>\n",
       "    </tr>\n",
       "    <tr>\n",
       "      <th>...</th>\n",
       "      <td>...</td>\n",
       "      <td>...</td>\n",
       "      <td>...</td>\n",
       "      <td>...</td>\n",
       "      <td>...</td>\n",
       "    </tr>\n",
       "    <tr>\n",
       "      <th>3947</th>\n",
       "      <td>LUIZ JACINTO NEPOMUCENO NETO</td>\n",
       "      <td>PHS</td>\n",
       "      <td>15/08/1971</td>\n",
       "      <td>49</td>\n",
       "      <td>MASCULINO</td>\n",
       "    </tr>\n",
       "    <tr>\n",
       "      <th>3948</th>\n",
       "      <td>MARCELA DIAS MOREIRA</td>\n",
       "      <td>PSOL</td>\n",
       "      <td>13/12/1980</td>\n",
       "      <td>40</td>\n",
       "      <td>FEMININO</td>\n",
       "    </tr>\n",
       "    <tr>\n",
       "      <th>3949</th>\n",
       "      <td>JOSÉ LUIZ GLADCHI</td>\n",
       "      <td>PRTB</td>\n",
       "      <td>27/05/1953</td>\n",
       "      <td>67</td>\n",
       "      <td>MASCULINO</td>\n",
       "    </tr>\n",
       "    <tr>\n",
       "      <th>3950</th>\n",
       "      <td>EDUARDO RODRIGUES XAVIER</td>\n",
       "      <td>MDB</td>\n",
       "      <td>08/01/1971</td>\n",
       "      <td>49</td>\n",
       "      <td>MASCULINO</td>\n",
       "    </tr>\n",
       "    <tr>\n",
       "      <th>3951</th>\n",
       "      <td>HENRIQUE STEIN SCIASCIO</td>\n",
       "      <td>PRB</td>\n",
       "      <td>07/06/1985</td>\n",
       "      <td>35</td>\n",
       "      <td>MASCULINO</td>\n",
       "    </tr>\n",
       "  </tbody>\n",
       "</table>\n",
       "<p>3952 rows × 5 columns</p>\n",
       "</div>"
      ],
      "text/plain": [
       "                           NM_CANDIDATO SG_PARTIDO DT_NASCIMENTO  \\\n",
       "0           HENRIQUE CARVALHO DE CAMPOS       PODE    04/11/1957   \n",
       "1                MICHEL RAMIRO CARNEIRO    PC do B    25/04/1987   \n",
       "2     RAIMUNDO BERNARDINO DO NASCIMENTO         PT    31/05/1945   \n",
       "3           MAURICIO DOMINGUES DA SILVA        PRB    09/08/1962   \n",
       "4               ORLANDO MAURÍCIO JÚNIOR         PT    31/07/1975   \n",
       "...                                 ...        ...           ...   \n",
       "3947       LUIZ JACINTO NEPOMUCENO NETO        PHS    15/08/1971   \n",
       "3948               MARCELA DIAS MOREIRA       PSOL    13/12/1980   \n",
       "3949                  JOSÉ LUIZ GLADCHI       PRTB    27/05/1953   \n",
       "3950           EDUARDO RODRIGUES XAVIER        MDB    08/01/1971   \n",
       "3951            HENRIQUE STEIN SCIASCIO        PRB    07/06/1985   \n",
       "\n",
       "      NR_IDADE_DATA_POSSE  DS_GENERO  \n",
       "0                      63  MASCULINO  \n",
       "1                      33  MASCULINO  \n",
       "2                      75  MASCULINO  \n",
       "3                      58  MASCULINO  \n",
       "4                      45  MASCULINO  \n",
       "...                   ...        ...  \n",
       "3947                   49  MASCULINO  \n",
       "3948                   40   FEMININO  \n",
       "3949                   67  MASCULINO  \n",
       "3950                   49  MASCULINO  \n",
       "3951                   35  MASCULINO  \n",
       "\n",
       "[3952 rows x 5 columns]"
      ]
     },
     "execution_count": 3,
     "metadata": {},
     "output_type": "execute_result"
    }
   ],
   "source": [
    "df.iloc[0:,[17,28,38,39,42]]"
   ]
  },
  {
   "cell_type": "code",
   "execution_count": 4,
   "metadata": {},
   "outputs": [
    {
     "data": {
      "text/plain": [
       "NM_CANDIDATO\n",
       "ÍTALO GOSMANI MOLON                         MASCULINO\n",
       "HELITON ESCORPELI                           MASCULINO\n",
       "HENRIQUE MORGAN DE AGUIAR FILHO             MASCULINO\n",
       "HENRIQUE FERRACINI DIAS                     MASCULINO\n",
       "HENRIQUE DOMINGUES                          MASCULINO\n",
       "                                              ...    \n",
       "RITA DE CASSIA TRINCA PASSOS                 FEMININO\n",
       "RITA DE CASSIA TAVARES DE ARAÚJO             FEMININO\n",
       "RITA DE CASSIA SOUSA SANTOS                  FEMININO\n",
       "RITA DE CASSIA MENEZES SANTOS NASCIMENTO     FEMININO\n",
       "ROSANGELA LOBO TEIXEIRA ZIZLER               FEMININO\n",
       "Name: DS_GENERO, Length: 3934, dtype: object"
      ]
     },
     "execution_count": 4,
     "metadata": {},
     "output_type": "execute_result"
    }
   ],
   "source": [
    "df.groupby('NM_CANDIDATO')['DS_GENERO'].max().sort_values(ascending=False)"
   ]
  },
  {
   "cell_type": "code",
   "execution_count": 7,
   "metadata": {
    "scrolled": true
   },
   "outputs": [
    {
     "data": {
      "text/plain": [
       "<AxesSubplot:ylabel='DS_GENERO'>"
      ]
     },
     "execution_count": 7,
     "metadata": {},
     "output_type": "execute_result"
    },
    {
     "data": {
      "image/png": "[encoded data removed]",
      "text/plain": [
       "<Figure size 360x360 with 1 Axes>"
      ]
     },
     "metadata": {
      "needs_background": "light"
     },
     "output_type": "display_data"
    }
   ],
   "source": [
    "plt.style.use('bmh')\n",
    "df.groupby('DS_GENERO').size().sort_values().tail(10).plot(kind='barh', figsize=(5,5))"
   ]
  },
  {
   "cell_type": "code",
   "execution_count": 8,
   "metadata": {},
   "outputs": [],
   "source": [
    "dados = df.loc[df['DS_GENERO'] == 'FEMININO']"
   ]
  },
  {
   "cell_type": "code",
   "execution_count": 9,
   "metadata": {},
   "outputs": [
    {
     "data": {
      "text/plain": [
       "5               ROSANILDA ANTONIA DA SILVA\n",
       "6       JAQUELINE LILIAN BARCELOS COUTINHO\n",
       "9                DIANA SOUBIHE DE OLIVEIRA\n",
       "10          LUCIANA FONTES LAVIERI ALBERTO\n",
       "11          GISELLE  RISSAS POIATO BEZERRA\n",
       "                       ...                \n",
       "3940                  TALITA EYMAEL LATÃES\n",
       "3942        RITA DE CÁSSIA SANTANA ALBANEZ\n",
       "3944                 ISABEL KAUSZ DOS REIS\n",
       "3946         ROSA GOMES DA FONSECA RIBEIRO\n",
       "3948                  MARCELA DIAS MOREIRA\n",
       "Name: NM_CANDIDATO, Length: 1256, dtype: object"
      ]
     },
     "execution_count": 9,
     "metadata": {},
     "output_type": "execute_result"
    }
   ],
   "source": [
    "dados['NM_CANDIDATO']"
   ]
  },
  {
   "cell_type": "code",
   "execution_count": 10,
   "metadata": {},
   "outputs": [
    {
     "data": {
      "text/html": [
       "<div>\n",
       "<style scoped>\n",
       "    .dataframe tbody tr th:only-of-type {\n",
       "        vertical-align: middle;\n",
       "    }\n",
       "\n",
       "    .dataframe tbody tr th {\n",
       "        vertical-align: top;\n",
       "    }\n",
       "\n",
       "    .dataframe thead th {\n",
       "        text-align: right;\n",
       "    }\n",
       "</style>\n",
       "<table border=\"1\" class=\"dataframe\">\n",
       "  <thead>\n",
       "    <tr style=\"text-align: right;\">\n",
       "      <th></th>\n",
       "      <th>NM_CANDIDATO</th>\n",
       "      <th>SG_PARTIDO</th>\n",
       "      <th>DT_NASCIMENTO</th>\n",
       "      <th>NR_IDADE_DATA_POSSE</th>\n",
       "      <th>DS_GENERO</th>\n",
       "    </tr>\n",
       "  </thead>\n",
       "  <tbody>\n",
       "    <tr>\n",
       "      <th>5</th>\n",
       "      <td>ROSANILDA ANTONIA DA SILVA</td>\n",
       "      <td>PV</td>\n",
       "      <td>17/06/1962</td>\n",
       "      <td>58</td>\n",
       "      <td>FEMININO</td>\n",
       "    </tr>\n",
       "    <tr>\n",
       "      <th>6</th>\n",
       "      <td>JAQUELINE LILIAN BARCELOS COUTINHO</td>\n",
       "      <td>PTB</td>\n",
       "      <td>03/09/1966</td>\n",
       "      <td>54</td>\n",
       "      <td>FEMININO</td>\n",
       "    </tr>\n",
       "    <tr>\n",
       "      <th>9</th>\n",
       "      <td>DIANA SOUBIHE DE OLIVEIRA</td>\n",
       "      <td>PSOL</td>\n",
       "      <td>14/11/1985</td>\n",
       "      <td>35</td>\n",
       "      <td>FEMININO</td>\n",
       "    </tr>\n",
       "    <tr>\n",
       "      <th>10</th>\n",
       "      <td>LUCIANA FONTES LAVIERI ALBERTO</td>\n",
       "      <td>NOVO</td>\n",
       "      <td>21/10/1970</td>\n",
       "      <td>50</td>\n",
       "      <td>FEMININO</td>\n",
       "    </tr>\n",
       "    <tr>\n",
       "      <th>11</th>\n",
       "      <td>GISELLE  RISSAS POIATO BEZERRA</td>\n",
       "      <td>PTC</td>\n",
       "      <td>07/07/1984</td>\n",
       "      <td>36</td>\n",
       "      <td>FEMININO</td>\n",
       "    </tr>\n",
       "    <tr>\n",
       "      <th>...</th>\n",
       "      <td>...</td>\n",
       "      <td>...</td>\n",
       "      <td>...</td>\n",
       "      <td>...</td>\n",
       "      <td>...</td>\n",
       "    </tr>\n",
       "    <tr>\n",
       "      <th>3940</th>\n",
       "      <td>TALITA EYMAEL LATÃES</td>\n",
       "      <td>DC</td>\n",
       "      <td>27/08/1986</td>\n",
       "      <td>34</td>\n",
       "      <td>FEMININO</td>\n",
       "    </tr>\n",
       "    <tr>\n",
       "      <th>3942</th>\n",
       "      <td>RITA DE CÁSSIA SANTANA ALBANEZ</td>\n",
       "      <td>PRB</td>\n",
       "      <td>27/03/1972</td>\n",
       "      <td>48</td>\n",
       "      <td>FEMININO</td>\n",
       "    </tr>\n",
       "    <tr>\n",
       "      <th>3944</th>\n",
       "      <td>ISABEL KAUSZ DOS REIS</td>\n",
       "      <td>MDB</td>\n",
       "      <td>14/04/1970</td>\n",
       "      <td>50</td>\n",
       "      <td>FEMININO</td>\n",
       "    </tr>\n",
       "    <tr>\n",
       "      <th>3946</th>\n",
       "      <td>ROSA GOMES DA FONSECA RIBEIRO</td>\n",
       "      <td>PRTB</td>\n",
       "      <td>21/01/1959</td>\n",
       "      <td>61</td>\n",
       "      <td>FEMININO</td>\n",
       "    </tr>\n",
       "    <tr>\n",
       "      <th>3948</th>\n",
       "      <td>MARCELA DIAS MOREIRA</td>\n",
       "      <td>PSOL</td>\n",
       "      <td>13/12/1980</td>\n",
       "      <td>40</td>\n",
       "      <td>FEMININO</td>\n",
       "    </tr>\n",
       "  </tbody>\n",
       "</table>\n",
       "<p>1256 rows × 5 columns</p>\n",
       "</div>"
      ],
      "text/plain": [
       "                            NM_CANDIDATO SG_PARTIDO DT_NASCIMENTO  \\\n",
       "5             ROSANILDA ANTONIA DA SILVA         PV    17/06/1962   \n",
       "6     JAQUELINE LILIAN BARCELOS COUTINHO        PTB    03/09/1966   \n",
       "9              DIANA SOUBIHE DE OLIVEIRA       PSOL    14/11/1985   \n",
       "10        LUCIANA FONTES LAVIERI ALBERTO       NOVO    21/10/1970   \n",
       "11        GISELLE  RISSAS POIATO BEZERRA        PTC    07/07/1984   \n",
       "...                                  ...        ...           ...   \n",
       "3940                TALITA EYMAEL LATÃES         DC    27/08/1986   \n",
       "3942      RITA DE CÁSSIA SANTANA ALBANEZ        PRB    27/03/1972   \n",
       "3944               ISABEL KAUSZ DOS REIS        MDB    14/04/1970   \n",
       "3946       ROSA GOMES DA FONSECA RIBEIRO       PRTB    21/01/1959   \n",
       "3948                MARCELA DIAS MOREIRA       PSOL    13/12/1980   \n",
       "\n",
       "      NR_IDADE_DATA_POSSE DS_GENERO  \n",
       "5                      58  FEMININO  \n",
       "6                      54  FEMININO  \n",
       "9                      35  FEMININO  \n",
       "10                     50  FEMININO  \n",
       "11                     36  FEMININO  \n",
       "...                   ...       ...  \n",
       "3940                   34  FEMININO  \n",
       "3942                   48  FEMININO  \n",
       "3944                   50  FEMININO  \n",
       "3946                   61  FEMININO  \n",
       "3948                   40  FEMININO  \n",
       "\n",
       "[1256 rows x 5 columns]"
      ]
     },
     "execution_count": 10,
     "metadata": {},
     "output_type": "execute_result"
    }
   ],
   "source": [
    "dados.iloc[0:,[17,28,38,39,42]]"
   ]
  },
  {
   "cell_type": "code",
   "execution_count": 11,
   "metadata": {},
   "outputs": [
    {
     "data": {
      "image/png": "[encoded data removed]",
      "text/plain": [
       "<Figure size 432x288 with 1 Axes>"
      ]
     },
     "metadata": {
      "needs_background": "light"
     },
     "output_type": "display_data"
    }
   ],
   "source": [
    "df.groupby('NR_IDADE_DATA_POSSE').size().plot(kind='line').set_title('Análise de Candidatas por idade', fontsize = 21)\n",
    "plt.xlabel('')\n",
    "plt.show()"
   ]
  },
  {
   "cell_type": "code",
   "execution_count": null,
   "metadata": {},
   "outputs": [],
   "source": []
  }
 ],
 "metadata": {
  "kernelspec": {
   "display_name": "Python 3",
   "language": "python",
   "name": "python3"
  },
  "language_info": {
   "codemirror_mode": {
    "name": "ipython",
    "version": 3
   },
   "file_extension": ".py",
   "mimetype": "text/x-python",
   "name": "python",
   "nbconvert_exporter": "python",
   "pygments_lexer": "ipython3",
   "version": "3.6.9"
  }
 },
 "nbformat": 4,
 "nbformat_minor": 4
}
